{
 "cells": [
  {
   "cell_type": "code",
   "execution_count": 1,
   "id": "126ad779",
   "metadata": {},
   "outputs": [
    {
     "name": "stdout",
     "output_type": "stream",
     "text": [
      "Using bucket sagemakerbucketfinal\n"
     ]
    }
   ],
   "source": [
    "import sagemaker\n",
    "from sklearn.model_selection import train_test_split\n",
    "import boto3\n",
    "import pandas as pd\n",
    "\n",
    "sm_boto3 = boto3.client(\"sagemaker\")\n",
    "sess = sagemaker.Session()\n",
    "region = sess.boto_session.region_name\n",
    "bucket = 'sagemakerbucketfinal' # Mention the created S3 bucket name here\n",
    "print(\"Using bucket \" + bucket)"
   ]
  },
  {
   "cell_type": "code",
   "execution_count": 2,
   "id": "864709dc",
   "metadata": {},
   "outputs": [],
   "source": [
    "df = pd.read_csv(\"train.csv\")"
   ]
  },
  {
   "cell_type": "code",
   "execution_count": 3,
   "id": "4b7ed952",
   "metadata": {},
   "outputs": [],
   "source": [
    "#DATA Processing\n",
    "\n",
    "features = list(df.columns)\n",
    "label = features.pop(-1)\n",
    "x = df[features]\n",
    "y = df[label]\n",
    "X_train, X_test, y_train, y_test = train_test_split(x,y, test_size=0.15, random_state=0)\n",
    "trainX = pd.DataFrame(X_train)\n",
    "trainX[label] = y_train\n",
    "testX = pd.DataFrame(X_test)\n",
    "testX[label] = y_test"
   ]
  },
  {
   "cell_type": "code",
   "execution_count": 4,
   "id": "29f35b87",
   "metadata": {},
   "outputs": [],
   "source": [
    "trainX.to_csv(\"train-V-1.csv\",index = False)\n",
    "testX.to_csv(\"test-V-1.csv\", index = False)"
   ]
  },
  {
   "cell_type": "code",
   "execution_count": 5,
   "id": "02e74112",
   "metadata": {},
   "outputs": [
    {
     "name": "stdout",
     "output_type": "stream",
     "text": [
      "s3://sagemakerbucketfinal/sagemaker/mobile_price_classification/sklearncontainer/train-V-1.csv\n",
      "s3://sagemakerbucketfinal/sagemaker/mobile_price_classification/sklearncontainer/test-V-1.csv\n"
     ]
    }
   ],
   "source": [
    "sk_prefix = \"sagemaker/mobile_price_classification/sklearncontainer\"\n",
    "trainpath = sess.upload_data(\n",
    "    path=\"train-V-1.csv\", bucket=bucket, key_prefix=sk_prefix\n",
    ")\n",
    "\n",
    "testpath = sess.upload_data(\n",
    "    path=\"test-V-1.csv\", bucket=bucket, key_prefix=sk_prefix\n",
    ")\n",
    "print(trainpath)\n",
    "print(testpath)"
   ]
  },
  {
   "cell_type": "code",
   "execution_count": 6,
   "id": "44047a41",
   "metadata": {},
   "outputs": [
    {
     "name": "stdout",
     "output_type": "stream",
     "text": [
      "Writing script.py\n"
     ]
    }
   ],
   "source": [
    "%%writefile script.py\n",
    "\n",
    "from sklearn.ensemble import RandomForestClassifier\n",
    "from sklearn.metrics import accuracy_score, classification_report, confusion_matrix, precision_score, recall_score, f1_score, roc_curve, auc\n",
    "import sklearn\n",
    "import joblib\n",
    "import boto3\n",
    "import pathlib\n",
    "from io import StringIO \n",
    "import argparse\n",
    "import joblib\n",
    "import os\n",
    "import numpy as np\n",
    "import pandas as pd\n",
    "    \n",
    "def model_fn(model_dir):\n",
    "    clf = joblib.load(os.path.join(model_dir, \"model.joblib\"))\n",
    "    return clf\n",
    "    \n",
    "if __name__ == \"__main__\":\n",
    "\n",
    "    print(\"[INFO] Extracting arguments\")\n",
    "    parser = argparse.ArgumentParser()\n",
    "\n",
    "    # hyperparameters sent by the client are passed as command-line arguments to the script.\n",
    "    parser.add_argument(\"--n_estimators\", type=int, default=100)\n",
    "    parser.add_argument(\"--random_state\", type=int, default=0)\n",
    "\n",
    "    # Data, model, and output directories\n",
    "    parser.add_argument(\"--model-dir\", type=str, default=os.environ.get(\"SM_MODEL_DIR\"))\n",
    "    parser.add_argument(\"--train\", type=str, default=os.environ.get(\"SM_CHANNEL_TRAIN\"))\n",
    "    parser.add_argument(\"--test\", type=str, default=os.environ.get(\"SM_CHANNEL_TEST\"))\n",
    "    parser.add_argument(\"--train-file\", type=str, default=\"train-V-1.csv\")\n",
    "    parser.add_argument(\"--test-file\", type=str, default=\"test-V-1.csv\")\n",
    "\n",
    "    args, _ = parser.parse_known_args()\n",
    "    \n",
    "    print(\"SKLearn Version: \", sklearn.__version__)\n",
    "    print(\"Joblib Version: \", joblib.__version__)\n",
    "\n",
    "    print(\"[INFO] Reading data\")\n",
    "    print()\n",
    "    train_df = pd.read_csv(os.path.join(args.train, args.train_file))\n",
    "    test_df = pd.read_csv(os.path.join(args.test, args.test_file))\n",
    "    \n",
    "    features = list(train_df.columns)\n",
    "    label = features.pop(-1)\n",
    "    \n",
    "    print(\"Building training and testing datasets\")\n",
    "    print()\n",
    "    X_train = train_df[features]\n",
    "    X_test = test_df[features]\n",
    "    y_train = train_df[label]\n",
    "    y_test = test_df[label]\n",
    "\n",
    "    print('Column order: ')\n",
    "    print(features)\n",
    "    print()\n",
    "    \n",
    "    print(\"Label column is: \",label)\n",
    "    print()\n",
    "    \n",
    "    print(\"Data Shape: \")\n",
    "    print()\n",
    "    print(\"---- SHAPE OF TRAINING DATA (85%) ----\")\n",
    "    print(X_train.shape)\n",
    "    print(y_train.shape)\n",
    "    print()\n",
    "    print(\"---- SHAPE OF TESTING DATA (15%) ----\")\n",
    "    print(X_test.shape)\n",
    "    print(y_test.shape)\n",
    "    print()\n",
    "    \n",
    "  \n",
    "    print(\"Training RandomForest Model.....\")\n",
    "    print()\n",
    "    model =  RandomForestClassifier(n_estimators=args.n_estimators, random_state=args.random_state, verbose = 3,n_jobs=-1)\n",
    "    model.fit(X_train, y_train)\n",
    "    print()\n",
    "    \n",
    "\n",
    "    model_path = os.path.join(args.model_dir, \"model.joblib\")\n",
    "    joblib.dump(model,model_path)\n",
    "    print(\"Model persisted at \" + model_path)\n",
    "    print()\n",
    "\n",
    "    \n",
    "    y_pred_test = model.predict(X_test)\n",
    "    test_acc = accuracy_score(y_test,y_pred_test)\n",
    "    test_rep = classification_report(y_test,y_pred_test)\n",
    "\n",
    "    print()\n",
    "    print(\"---- METRICS RESULTS FOR TESTING DATA ----\")\n",
    "    print()\n",
    "    print(\"Total Rows are: \", X_test.shape[0])\n",
    "    print('[TESTING] Model Accuracy is: ', test_acc)\n",
    "    print('[TESTING] Testing Report: ')\n",
    "    print(test_rep)"
   ]
  },
  {
   "cell_type": "code",
   "execution_count": 15,
   "id": "098e4e8f",
   "metadata": {},
   "outputs": [],
   "source": [
    "from sagemaker.sklearn.estimator import SKLearn\n",
    "\n",
    "FRAMEWORK_VERSION = \"0.23-1\"\n",
    "\n",
    "sklearn_estimator = SKLearn(\n",
    "    entry_point=\"script.py\",\n",
    "    role=\"arn:aws:iam::211740653216:role/service-role/AmazonSageMaker-ExecutionRole-20230715T221421\",\n",
    "    instance_count=1,\n",
    "    instance_type=\"ml.m5.large\",\n",
    "    framework_version=FRAMEWORK_VERSION,\n",
    "    base_job_name=\"RF-custom-sklearn\",\n",
    "    hyperparameters={\n",
    "        \"n_estimators\": 100,\n",
    "        \"random_state\": 0,\n",
    "    },\n",
    "    use_spot_instances = True,\n",
    "    max_wait = 7200,\n",
    "    max_run = 3600\n",
    ")"
   ]
  },
  {
   "cell_type": "code",
   "execution_count": 16,
   "id": "78127273",
   "metadata": {},
   "outputs": [
    {
     "name": "stdout",
     "output_type": "stream",
     "text": [
      "Using provided s3_resource\n"
     ]
    },
    {
     "name": "stderr",
     "output_type": "stream",
     "text": [
      "INFO:sagemaker:Creating training-job with name: RF-custom-sklearn-2023-07-15-16-47-52-808\n"
     ]
    },
    {
     "name": "stdout",
     "output_type": "stream",
     "text": [
      "2023-07-15 16:47:56 Starting - Starting the training job...\n",
      "2023-07-15 16:48:12 Starting - Preparing the instances for training.........\n",
      "2023-07-15 16:49:53 Downloading - Downloading input data...\n",
      "2023-07-15 16:50:23 Training - Downloading the training image...\n",
      "2023-07-15 16:51:04 Uploading - Uploading generated training model\u001b[34m2023-07-15 16:50:59,053 sagemaker-containers INFO     Imported framework sagemaker_sklearn_container.training\u001b[0m\n",
      "\u001b[34m2023-07-15 16:50:59,057 sagemaker-training-toolkit INFO     No GPUs detected (normal if no gpus installed)\u001b[0m\n",
      "\u001b[34m2023-07-15 16:50:59,100 sagemaker_sklearn_container.training INFO     Invoking user training script.\u001b[0m\n",
      "\u001b[34m2023-07-15 16:50:59,260 sagemaker-training-toolkit INFO     No GPUs detected (normal if no gpus installed)\u001b[0m\n",
      "\u001b[34m2023-07-15 16:50:59,272 sagemaker-training-toolkit INFO     No GPUs detected (normal if no gpus installed)\u001b[0m\n",
      "\u001b[34m2023-07-15 16:50:59,284 sagemaker-training-toolkit INFO     No GPUs detected (normal if no gpus installed)\u001b[0m\n",
      "\u001b[34m2023-07-15 16:50:59,293 sagemaker-training-toolkit INFO     Invoking user script\u001b[0m\n",
      "\u001b[34mTraining Env:\u001b[0m\n",
      "\u001b[34m{\n",
      "    \"additional_framework_parameters\": {},\n",
      "    \"channel_input_dirs\": {\n",
      "        \"test\": \"/opt/ml/input/data/test\",\n",
      "        \"train\": \"/opt/ml/input/data/train\"\n",
      "    },\n",
      "    \"current_host\": \"algo-1\",\n",
      "    \"framework_module\": \"sagemaker_sklearn_container.training:main\",\n",
      "    \"hosts\": [\n",
      "        \"algo-1\"\n",
      "    ],\n",
      "    \"hyperparameters\": {\n",
      "        \"n_estimators\": 100,\n",
      "        \"random_state\": 0\n",
      "    },\n",
      "    \"input_config_dir\": \"/opt/ml/input/config\",\n",
      "    \"input_data_config\": {\n",
      "        \"test\": {\n",
      "            \"TrainingInputMode\": \"File\",\n",
      "            \"S3DistributionType\": \"FullyReplicated\",\n",
      "            \"RecordWrapperType\": \"None\"\n",
      "        },\n",
      "        \"train\": {\n",
      "            \"TrainingInputMode\": \"File\",\n",
      "            \"S3DistributionType\": \"FullyReplicated\",\n",
      "            \"RecordWrapperType\": \"None\"\n",
      "        }\n",
      "    },\n",
      "    \"input_dir\": \"/opt/ml/input\",\n",
      "    \"is_master\": true,\n",
      "    \"job_name\": \"RF-custom-sklearn-2023-07-15-16-47-52-808\",\n",
      "    \"log_level\": 20,\n",
      "    \"master_hostname\": \"algo-1\",\n",
      "    \"model_dir\": \"/opt/ml/model\",\n",
      "    \"module_dir\": \"s3://sagemaker-eu-north-1-211740653216/RF-custom-sklearn-2023-07-15-16-47-52-808/source/sourcedir.tar.gz\",\n",
      "    \"module_name\": \"script\",\n",
      "    \"network_interface_name\": \"eth0\",\n",
      "    \"num_cpus\": 2,\n",
      "    \"num_gpus\": 0,\n",
      "    \"output_data_dir\": \"/opt/ml/output/data\",\n",
      "    \"output_dir\": \"/opt/ml/output\",\n",
      "    \"output_intermediate_dir\": \"/opt/ml/output/intermediate\",\n",
      "    \"resource_config\": {\n",
      "        \"current_host\": \"algo-1\",\n",
      "        \"current_instance_type\": \"ml.m5.large\",\n",
      "        \"current_group_name\": \"homogeneousCluster\",\n",
      "        \"hosts\": [\n",
      "            \"algo-1\"\n",
      "        ],\n",
      "        \"instance_groups\": [\n",
      "            {\n",
      "                \"instance_group_name\": \"homogeneousCluster\",\n",
      "                \"instance_type\": \"ml.m5.large\",\n",
      "                \"hosts\": [\n",
      "                    \"algo-1\"\n",
      "                ]\n",
      "            }\n",
      "        ],\n",
      "        \"network_interface_name\": \"eth0\"\n",
      "    },\n",
      "    \"user_entry_point\": \"script.py\"\u001b[0m\n",
      "\u001b[34m}\u001b[0m\n",
      "\u001b[34mEnvironment variables:\u001b[0m\n",
      "\u001b[34mSM_HOSTS=[\"algo-1\"]\u001b[0m\n",
      "\u001b[34mSM_NETWORK_INTERFACE_NAME=eth0\u001b[0m\n",
      "\u001b[34mSM_HPS={\"n_estimators\":100,\"random_state\":0}\u001b[0m\n",
      "\u001b[34mSM_USER_ENTRY_POINT=script.py\u001b[0m\n",
      "\u001b[34mSM_FRAMEWORK_PARAMS={}\u001b[0m\n",
      "\u001b[34mSM_RESOURCE_CONFIG={\"current_group_name\":\"homogeneousCluster\",\"current_host\":\"algo-1\",\"current_instance_type\":\"ml.m5.large\",\"hosts\":[\"algo-1\"],\"instance_groups\":[{\"hosts\":[\"algo-1\"],\"instance_group_name\":\"homogeneousCluster\",\"instance_type\":\"ml.m5.large\"}],\"network_interface_name\":\"eth0\"}\u001b[0m\n",
      "\u001b[34mSM_INPUT_DATA_CONFIG={\"test\":{\"RecordWrapperType\":\"None\",\"S3DistributionType\":\"FullyReplicated\",\"TrainingInputMode\":\"File\"},\"train\":{\"RecordWrapperType\":\"None\",\"S3DistributionType\":\"FullyReplicated\",\"TrainingInputMode\":\"File\"}}\u001b[0m\n",
      "\u001b[34mSM_OUTPUT_DATA_DIR=/opt/ml/output/data\u001b[0m\n",
      "\u001b[34mSM_CHANNELS=[\"test\",\"train\"]\u001b[0m\n",
      "\u001b[34mSM_CURRENT_HOST=algo-1\u001b[0m\n",
      "\u001b[34mSM_MODULE_NAME=script\u001b[0m\n",
      "\u001b[34mSM_LOG_LEVEL=20\u001b[0m\n",
      "\u001b[34mSM_FRAMEWORK_MODULE=sagemaker_sklearn_container.training:main\u001b[0m\n",
      "\u001b[34mSM_INPUT_DIR=/opt/ml/input\u001b[0m\n",
      "\u001b[34mSM_INPUT_CONFIG_DIR=/opt/ml/input/config\u001b[0m\n",
      "\u001b[34mSM_OUTPUT_DIR=/opt/ml/output\u001b[0m\n",
      "\u001b[34mSM_NUM_CPUS=2\u001b[0m\n",
      "\u001b[34mSM_NUM_GPUS=0\u001b[0m\n",
      "\u001b[34mSM_MODEL_DIR=/opt/ml/model\u001b[0m\n",
      "\u001b[34mSM_MODULE_DIR=s3://sagemaker-eu-north-1-211740653216/RF-custom-sklearn-2023-07-15-16-47-52-808/source/sourcedir.tar.gz\u001b[0m\n",
      "\u001b[34mSM_TRAINING_ENV={\"additional_framework_parameters\":{},\"channel_input_dirs\":{\"test\":\"/opt/ml/input/data/test\",\"train\":\"/opt/ml/input/data/train\"},\"current_host\":\"algo-1\",\"framework_module\":\"sagemaker_sklearn_container.training:main\",\"hosts\":[\"algo-1\"],\"hyperparameters\":{\"n_estimators\":100,\"random_state\":0},\"input_config_dir\":\"/opt/ml/input/config\",\"input_data_config\":{\"test\":{\"RecordWrapperType\":\"None\",\"S3DistributionType\":\"FullyReplicated\",\"TrainingInputMode\":\"File\"},\"train\":{\"RecordWrapperType\":\"None\",\"S3DistributionType\":\"FullyReplicated\",\"TrainingInputMode\":\"File\"}},\"input_dir\":\"/opt/ml/input\",\"is_master\":true,\"job_name\":\"RF-custom-sklearn-2023-07-15-16-47-52-808\",\"log_level\":20,\"master_hostname\":\"algo-1\",\"model_dir\":\"/opt/ml/model\",\"module_dir\":\"s3://sagemaker-eu-north-1-211740653216/RF-custom-sklearn-2023-07-15-16-47-52-808/source/sourcedir.tar.gz\",\"module_name\":\"script\",\"network_interface_name\":\"eth0\",\"num_cpus\":2,\"num_gpus\":0,\"output_data_dir\":\"/opt/ml/output/data\",\"output_dir\":\"/opt/ml/output\",\"output_intermediate_dir\":\"/opt/ml/output/intermediate\",\"resource_config\":{\"current_group_name\":\"homogeneousCluster\",\"current_host\":\"algo-1\",\"current_instance_type\":\"ml.m5.large\",\"hosts\":[\"algo-1\"],\"instance_groups\":[{\"hosts\":[\"algo-1\"],\"instance_group_name\":\"homogeneousCluster\",\"instance_type\":\"ml.m5.large\"}],\"network_interface_name\":\"eth0\"},\"user_entry_point\":\"script.py\"}\u001b[0m\n",
      "\u001b[34mSM_USER_ARGS=[\"--n_estimators\",\"100\",\"--random_state\",\"0\"]\u001b[0m\n",
      "\u001b[34mSM_OUTPUT_INTERMEDIATE_DIR=/opt/ml/output/intermediate\u001b[0m\n",
      "\u001b[34mSM_CHANNEL_TEST=/opt/ml/input/data/test\u001b[0m\n",
      "\u001b[34mSM_CHANNEL_TRAIN=/opt/ml/input/data/train\u001b[0m\n",
      "\u001b[34mSM_HP_N_ESTIMATORS=100\u001b[0m\n",
      "\u001b[34mSM_HP_RANDOM_STATE=0\u001b[0m\n",
      "\u001b[34mPYTHONPATH=/opt/ml/code:/miniconda3/bin:/miniconda3/lib/python37.zip:/miniconda3/lib/python3.7:/miniconda3/lib/python3.7/lib-dynload:/miniconda3/lib/python3.7/site-packages\u001b[0m\n",
      "\u001b[34mInvoking script with the following command:\u001b[0m\n",
      "\u001b[34m/miniconda3/bin/python script.py --n_estimators 100 --random_state 0\u001b[0m\n",
      "\u001b[34m[INFO] Extracting arguments\u001b[0m\n",
      "\u001b[34mSKLearn Version:  0.23.2\u001b[0m\n",
      "\u001b[34mJoblib Version:  1.2.0\u001b[0m\n",
      "\u001b[34m[INFO] Reading data\u001b[0m\n",
      "\u001b[34mBuilding training and testing datasets\u001b[0m\n",
      "\u001b[34mColumn order: \u001b[0m\n",
      "\u001b[34m['battery_power', 'blue', 'clock_speed', 'dual_sim', 'fc', 'four_g', 'int_memory', 'm_dep', 'mobile_wt', 'n_cores', 'pc', 'px_height', 'px_width', 'ram', 'sc_h', 'sc_w', 'talk_time', 'three_g', 'touch_screen', 'wifi']\u001b[0m\n",
      "\u001b[34mLabel column is:  price_range\u001b[0m\n",
      "\u001b[34mData Shape: \u001b[0m\n",
      "\u001b[34m---- SHAPE OF TRAINING DATA (85%) ----\u001b[0m\n",
      "\u001b[34m(1700, 20)\u001b[0m\n",
      "\u001b[34m(1700,)\u001b[0m\n",
      "\u001b[34m---- SHAPE OF TESTING DATA (15%) ----\u001b[0m\n",
      "\u001b[34m(300, 20)\u001b[0m\n",
      "\u001b[34m(300,)\u001b[0m\n",
      "\u001b[34mTraining RandomForest Model.....\u001b[0m\n",
      "\u001b[34m[Parallel(n_jobs=-1)]: Using backend ThreadingBackend with 2 concurrent workers.\u001b[0m\n",
      "\u001b[34mbuilding tree 1 of 100building tree 2 of 100\u001b[0m\n",
      "\u001b[34mbuilding tree 3 of 100\u001b[0m\n",
      "\u001b[34mbuilding tree 4 of 100\u001b[0m\n",
      "\u001b[34mbuilding tree 5 of 100\u001b[0m\n",
      "\u001b[34mbuilding tree 6 of 100\u001b[0m\n",
      "\u001b[34mbuilding tree 7 of 100\u001b[0m\n",
      "\u001b[34mbuilding tree 8 of 100\u001b[0m\n",
      "\u001b[34mbuilding tree 9 of 100\u001b[0m\n",
      "\u001b[34mbuilding tree 10 of 100\u001b[0m\n",
      "\u001b[34mbuilding tree 11 of 100\u001b[0m\n",
      "\u001b[34mbuilding tree 12 of 100\u001b[0m\n",
      "\u001b[34mbuilding tree 13 of 100\u001b[0m\n",
      "\u001b[34mbuilding tree 14 of 100\u001b[0m\n",
      "\u001b[34mbuilding tree 15 of 100\u001b[0m\n",
      "\u001b[34mbuilding tree 16 of 100\u001b[0m\n",
      "\u001b[34mbuilding tree 17 of 100\u001b[0m\n",
      "\u001b[34mbuilding tree 18 of 100\u001b[0m\n",
      "\u001b[34mbuilding tree 19 of 100\u001b[0m\n",
      "\u001b[34mbuilding tree 20 of 100building tree 21 of 100\u001b[0m\n",
      "\u001b[34mbuilding tree 22 of 100\u001b[0m\n",
      "\u001b[34mbuilding tree 23 of 100\u001b[0m\n",
      "\u001b[34mbuilding tree 24 of 100\u001b[0m\n",
      "\u001b[34mbuilding tree 25 of 100\u001b[0m\n",
      "\u001b[34mbuilding tree 26 of 100\u001b[0m\n",
      "\u001b[34mbuilding tree 27 of 100\u001b[0m\n",
      "\u001b[34mbuilding tree 28 of 100\u001b[0m\n",
      "\u001b[34mbuilding tree 29 of 100\u001b[0m\n",
      "\u001b[34m[Parallel(n_jobs=-1)]: Done  28 tasks      | elapsed:    0.1s\u001b[0m\n",
      "\u001b[34mbuilding tree 30 of 100\u001b[0m\n",
      "\u001b[34mbuilding tree 31 of 100\u001b[0m\n",
      "\u001b[34mbuilding tree 32 of 100building tree 33 of 100\u001b[0m\n",
      "\u001b[34mbuilding tree 34 of 100\u001b[0m\n",
      "\u001b[34mbuilding tree 35 of 100\u001b[0m\n",
      "\u001b[34mbuilding tree 36 of 100\u001b[0m\n",
      "\u001b[34mbuilding tree 37 of 100\u001b[0m\n",
      "\u001b[34mbuilding tree 38 of 100\u001b[0m\n",
      "\u001b[34mbuilding tree 39 of 100\u001b[0m\n",
      "\u001b[34mbuilding tree 40 of 100\u001b[0m\n",
      "\u001b[34mbuilding tree 41 of 100\u001b[0m\n",
      "\u001b[34mbuilding tree 42 of 100\u001b[0m\n",
      "\u001b[34mbuilding tree 43 of 100\u001b[0m\n",
      "\u001b[34mbuilding tree 44 of 100\u001b[0m\n",
      "\u001b[34mbuilding tree 45 of 100\u001b[0m\n",
      "\u001b[34mbuilding tree 46 of 100\u001b[0m\n",
      "\u001b[34mbuilding tree 47 of 100\u001b[0m\n",
      "\u001b[34mbuilding tree 48 of 100building tree 49 of 100\u001b[0m\n",
      "\u001b[34mbuilding tree 50 of 100\u001b[0m\n",
      "\u001b[34mbuilding tree 51 of 100\u001b[0m\n",
      "\u001b[34mbuilding tree 52 of 100\u001b[0m\n",
      "\u001b[34mbuilding tree 53 of 100\u001b[0m\n",
      "\u001b[34mbuilding tree 54 of 100\u001b[0m\n",
      "\u001b[34mbuilding tree 55 of 100building tree 56 of 100\u001b[0m\n",
      "\u001b[34mbuilding tree 57 of 100\u001b[0m\n",
      "\u001b[34mbuilding tree 58 of 100\u001b[0m\n",
      "\u001b[34mbuilding tree 59 of 100building tree 60 of 100\u001b[0m\n",
      "\u001b[34mbuilding tree 61 of 100\u001b[0m\n",
      "\u001b[34mbuilding tree 62 of 100\u001b[0m\n",
      "\u001b[34mbuilding tree 63 of 100building tree 64 of 100\u001b[0m\n",
      "\u001b[34mbuilding tree 65 of 100building tree 66 of 100\u001b[0m\n",
      "\u001b[34mbuilding tree 67 of 100\u001b[0m\n",
      "\u001b[34mbuilding tree 68 of 100\u001b[0m\n",
      "\u001b[34mbuilding tree 69 of 100\u001b[0m\n",
      "\u001b[34mbuilding tree 70 of 100\u001b[0m\n",
      "\u001b[34mbuilding tree 71 of 100building tree 72 of 100\u001b[0m\n",
      "\u001b[34mbuilding tree 73 of 100\u001b[0m\n",
      "\u001b[34mbuilding tree 74 of 100\u001b[0m\n",
      "\u001b[34mbuilding tree 75 of 100\u001b[0m\n",
      "\u001b[34mbuilding tree 76 of 100\u001b[0m\n",
      "\u001b[34mbuilding tree 77 of 100\u001b[0m\n",
      "\u001b[34mbuilding tree 78 of 100\u001b[0m\n",
      "\u001b[34mbuilding tree 79 of 100\u001b[0m\n",
      "\u001b[34mbuilding tree 80 of 100\u001b[0m\n",
      "\u001b[34mbuilding tree 81 of 100\u001b[0m\n",
      "\u001b[34mbuilding tree 82 of 100\u001b[0m\n",
      "\u001b[34mbuilding tree 83 of 100\u001b[0m\n",
      "\u001b[34mbuilding tree 84 of 100\u001b[0m\n",
      "\u001b[34mbuilding tree 85 of 100building tree 86 of 100\u001b[0m\n",
      "\u001b[34mbuilding tree 87 of 100\u001b[0m\n",
      "\u001b[34mbuilding tree 88 of 100building tree 89 of 100\u001b[0m\n",
      "\u001b[34mbuilding tree 90 of 100\u001b[0m\n",
      "\u001b[34mbuilding tree 91 of 100\u001b[0m\n",
      "\u001b[34mbuilding tree 92 of 100building tree 93 of 100\u001b[0m\n",
      "\u001b[34mbuilding tree 94 of 100\u001b[0m\n",
      "\u001b[34mbuilding tree 95 of 100\u001b[0m\n",
      "\u001b[34mbuilding tree 96 of 100\u001b[0m\n",
      "\u001b[34mbuilding tree 97 of 100\u001b[0m\n",
      "\u001b[34mbuilding tree 98 of 100\u001b[0m\n",
      "\u001b[34mbuilding tree 99 of 100\u001b[0m\n",
      "\u001b[34mbuilding tree 100 of 100\u001b[0m\n",
      "\u001b[34m[Parallel(n_jobs=-1)]: Done 100 out of 100 | elapsed:    0.3s finished\u001b[0m\n",
      "\u001b[34mModel persisted at /opt/ml/model/model.joblib\u001b[0m\n",
      "\u001b[34m[Parallel(n_jobs=2)]: Using backend ThreadingBackend with 2 concurrent workers.\u001b[0m\n",
      "\u001b[34m[Parallel(n_jobs=2)]: Done  28 tasks      | elapsed:    0.0s\u001b[0m\n",
      "\u001b[34m[Parallel(n_jobs=2)]: Done 100 out of 100 | elapsed:    0.0s finished\u001b[0m\n",
      "\u001b[34m---- METRICS RESULTS FOR TESTING DATA ----\u001b[0m\n",
      "\u001b[34mTotal Rows are:  300\u001b[0m\n",
      "\u001b[34m[TESTING] Model Accuracy is:  0.8833333333333333\u001b[0m\n",
      "\u001b[34m[TESTING] Testing Report: \n",
      "              precision    recall  f1-score   support\n",
      "           0       0.95      1.00      0.97        69\n",
      "           1       0.85      0.80      0.83        66\n",
      "           2       0.80      0.77      0.79        74\n",
      "           3       0.91      0.95      0.93        91\n",
      "    accuracy                           0.88       300\n",
      "   macro avg       0.88      0.88      0.88       300\u001b[0m\n",
      "\u001b[34mweighted avg       0.88      0.88      0.88       300\u001b[0m\n",
      "\u001b[34m2023-07-15 16:51:00,860 sagemaker-containers INFO     Reporting training SUCCESS\u001b[0m\n"
     ]
    },
    {
     "name": "stdout",
     "output_type": "stream",
     "text": [
      "\n",
      "2023-07-15 16:51:19 Completed - Training job completed\n",
      "Training seconds: 86\n",
      "Billable seconds: 25\n",
      "Managed Spot Training savings: 70.9%\n"
     ]
    }
   ],
   "source": [
    "# launch training job, with asynchronous call\n",
    "sklearn_estimator.fit({\"train\": trainpath, \"test\": testpath}, wait=True)\n",
    "# sklearn_estimator.fit({\"train\": datapath}, wait=True)"
   ]
  },
  {
   "cell_type": "code",
   "execution_count": 17,
   "id": "7dcf0c3c",
   "metadata": {},
   "outputs": [
    {
     "name": "stdout",
     "output_type": "stream",
     "text": [
      "\n",
      "2023-07-15 16:51:19 Starting - Preparing the instances for training\n",
      "2023-07-15 16:51:19 Downloading - Downloading input data\n",
      "2023-07-15 16:51:19 Training - Training image download completed. Training in progress.\n",
      "2023-07-15 16:51:19 Uploading - Uploading generated training model\n",
      "2023-07-15 16:51:19 Completed - Training job completed\n",
      "Model artifact persisted at s3://sagemaker-eu-north-1-211740653216/RF-custom-sklearn-2023-07-15-16-47-52-808/output/model.tar.gz\n"
     ]
    }
   ],
   "source": [
    "sklearn_estimator.latest_training_job.wait(logs=\"None\")\n",
    "artifact = sm_boto3.describe_training_job(\n",
    "    TrainingJobName=sklearn_estimator.latest_training_job.name\n",
    ")[\"ModelArtifacts\"][\"S3ModelArtifacts\"]\n",
    "\n",
    "print(\"Model artifact persisted at \" + artifact)"
   ]
  },
  {
   "cell_type": "code",
   "execution_count": 22,
   "id": "289ef14d",
   "metadata": {},
   "outputs": [],
   "source": [
    "from sagemaker.sklearn.model import SKLearnModel\n",
    "from time import gmtime, strftime\n",
    "\n",
    "model_name = \"Custom-sklearn-model-\" + strftime(\"%Y-%m-%d-%H-%M-%S\", gmtime())\n",
    "model = SKLearnModel(\n",
    "    name =  model_name,\n",
    "    model_data=artifact,\n",
    "    role=\"arn:aws:iam::211740653216:role/service-role/AmazonSageMaker-ExecutionRole-20230715T221421\",\n",
    "    entry_point=\"script.py\",\n",
    "    framework_version=FRAMEWORK_VERSION,\n",
    ")"
   ]
  },
  {
   "cell_type": "code",
   "execution_count": 26,
   "id": "0f794370",
   "metadata": {},
   "outputs": [
    {
     "name": "stdout",
     "output_type": "stream",
     "text": [
      "EndpointName=Custom-sklearn-model-2023-07-15-17-04-01\n"
     ]
    },
    {
     "name": "stderr",
     "output_type": "stream",
     "text": [
      "INFO:sagemaker:Creating model with name: Custom-sklearn-model-2023-07-15-17-02-35\n",
      "WARNING:sagemaker:Using already existing model: Custom-sklearn-model-2023-07-15-17-02-35\n",
      "INFO:sagemaker:Creating endpoint-config with name Custom-sklearn-model-2023-07-15-17-04-01\n",
      "INFO:sagemaker:Creating endpoint with name Custom-sklearn-model-2023-07-15-17-04-01\n"
     ]
    },
    {
     "name": "stdout",
     "output_type": "stream",
     "text": [
      "----!"
     ]
    }
   ],
   "source": [
    "endpoint_name = \"Custom-sklearn-model-\" + strftime(\"%Y-%m-%d-%H-%M-%S\", gmtime())\n",
    "print(\"EndpointName={}\".format(endpoint_name))\n",
    "\n",
    "predictor = model.deploy(\n",
    "    initial_instance_count=1,\n",
    "    instance_type=\"ml.m5.large\",\n",
    "    endpoint_name=endpoint_name,\n",
    ")"
   ]
  },
  {
   "cell_type": "code",
   "execution_count": 28,
   "id": "9b0e9d9c",
   "metadata": {},
   "outputs": [
    {
     "name": "stdout",
     "output_type": "stream",
     "text": [
      "[3 0 2 1 3]\n"
     ]
    }
   ],
   "source": [
    "print(predictor.predict(testX[features][0:5].values.tolist()))"
   ]
  },
  {
   "cell_type": "code",
   "execution_count": 29,
   "id": "d8b907de",
   "metadata": {},
   "outputs": [
    {
     "data": {
      "text/plain": [
       "{'ResponseMetadata': {'RequestId': '34365b71-b2ce-41d8-9c4b-c6b0a759e055',\n",
       "  'HTTPStatusCode': 200,\n",
       "  'HTTPHeaders': {'x-amzn-requestid': '34365b71-b2ce-41d8-9c4b-c6b0a759e055',\n",
       "   'content-type': 'application/x-amz-json-1.1',\n",
       "   'content-length': '0',\n",
       "   'date': 'Sat, 15 Jul 2023 17:09:19 GMT'},\n",
       "  'RetryAttempts': 0}}"
      ]
     },
     "execution_count": 29,
     "metadata": {},
     "output_type": "execute_result"
    }
   ],
   "source": [
    "sm_boto3.delete_endpoint(EndpointName=endpoint_name)"
   ]
  },
  {
   "cell_type": "code",
   "execution_count": null,
   "id": "fda303a8",
   "metadata": {},
   "outputs": [],
   "source": []
  }
 ],
 "metadata": {
  "kernelspec": {
   "display_name": "Python 3 (ipykernel)",
   "language": "python",
   "name": "python3"
  },
  "language_info": {
   "codemirror_mode": {
    "name": "ipython",
    "version": 3
   },
   "file_extension": ".py",
   "mimetype": "text/x-python",
   "name": "python",
   "nbconvert_exporter": "python",
   "pygments_lexer": "ipython3",
   "version": "3.11.2"
  }
 },
 "nbformat": 4,
 "nbformat_minor": 5
}
